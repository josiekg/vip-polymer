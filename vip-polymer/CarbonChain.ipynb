{
 "cells": [
  {
   "cell_type": "code",
   "execution_count": 73,
   "id": "9825cf7c-4a42-4e62-a6da-ee8b7c1f6ca7",
   "metadata": {},
   "outputs": [
    {
     "data": {
      "application/3dmoljs_load.v0": "<div id=\"3dmolviewer_1744944584115935\"  style=\"position: relative; width: 640px; height: 480px;\">\n        <p id=\"3dmolwarning_1744944584115935\" style=\"background-color:#ffcccc;color:black\">3Dmol.js failed to load for some reason.  Please check your browser console for error messages.<br></p>\n        </div>\n<script>\n\nvar loadScriptAsync = function(uri){\n  return new Promise((resolve, reject) => {\n    //this is to ignore the existence of requirejs amd\n    var savedexports, savedmodule;\n    if (typeof exports !== 'undefined') savedexports = exports;\n    else exports = {}\n    if (typeof module !== 'undefined') savedmodule = module;\n    else module = {}\n\n    var tag = document.createElement('script');\n    tag.src = uri;\n    tag.async = true;\n    tag.onload = () => {\n        exports = savedexports;\n        module = savedmodule;\n        resolve();\n    };\n  var firstScriptTag = document.getElementsByTagName('script')[0];\n  firstScriptTag.parentNode.insertBefore(tag, firstScriptTag);\n});\n};\n\nif(typeof $3Dmolpromise === 'undefined') {\n$3Dmolpromise = null;\n  $3Dmolpromise = loadScriptAsync('https://cdnjs.cloudflare.com/ajax/libs/3Dmol/2.4.2/3Dmol-min.js');\n}\n\nvar viewer_1744944584115935 = null;\nvar warn = document.getElementById(\"3dmolwarning_1744944584115935\");\nif(warn) {\n    warn.parentNode.removeChild(warn);\n}\n$3Dmolpromise.then(function() {\nviewer_1744944584115935 = $3Dmol.createViewer(document.getElementById(\"3dmolviewer_1744944584115935\"),{backgroundColor:\"white\"});\nviewer_1744944584115935.zoomTo();\n\tviewer_1744944584115935.addModel(\"@<TRIPOS>MOLECULE\\nRES\\n5 4 1 0 1\\nSMALL\\nNO_CHARGES\\n@<TRIPOS>CRYSIN\\n   35.0000     6.0000     6.0000    90.0000    90.0000    90.0000 1 1\\n@<TRIPOS>ATOM\\n       1 C            0.0000     0.0000     0.0000 C             1 RES     \\n       2 C            0.0000     0.0000     0.0000 C             1 RES     \\n       3 C           10.0000     0.0000     0.0000 C             1 RES     \\n       4 C           20.0000     0.0000     0.0000 C             1 RES     \\n       5 C           30.0000     0.0000     0.0000 C             1 RES     \\n@<TRIPOS>BOND\\n       1        1        2 1\\n       2        1        3 1\\n       3        1        4 1\\n       4        1        5 1\\n@<TRIPOS>SUBSTRUCTURE\\n       1 RES             1 RESIDUE    0 **** ROOT      0\\n\",\"mol2\");\n\tviewer_1744944584115935.setStyle({\"stick\": {\"radius\": 0.18, \"color\": \"grey\"}, \"sphere\": {\"scale\": 0.3, \"colorscheme\": {}}});\n\tviewer_1744944584115935.zoomTo();\nviewer_1744944584115935.render();\n});\n</script>",
      "text/html": [
       "<div id=\"3dmolviewer_1744944584115935\"  style=\"position: relative; width: 640px; height: 480px;\">\n",
       "        <p id=\"3dmolwarning_1744944584115935\" style=\"background-color:#ffcccc;color:black\">3Dmol.js failed to load for some reason.  Please check your browser console for error messages.<br></p>\n",
       "        </div>\n",
       "<script>\n",
       "\n",
       "var loadScriptAsync = function(uri){\n",
       "  return new Promise((resolve, reject) => {\n",
       "    //this is to ignore the existence of requirejs amd\n",
       "    var savedexports, savedmodule;\n",
       "    if (typeof exports !== 'undefined') savedexports = exports;\n",
       "    else exports = {}\n",
       "    if (typeof module !== 'undefined') savedmodule = module;\n",
       "    else module = {}\n",
       "\n",
       "    var tag = document.createElement('script');\n",
       "    tag.src = uri;\n",
       "    tag.async = true;\n",
       "    tag.onload = () => {\n",
       "        exports = savedexports;\n",
       "        module = savedmodule;\n",
       "        resolve();\n",
       "    };\n",
       "  var firstScriptTag = document.getElementsByTagName('script')[0];\n",
       "  firstScriptTag.parentNode.insertBefore(tag, firstScriptTag);\n",
       "});\n",
       "};\n",
       "\n",
       "if(typeof $3Dmolpromise === 'undefined') {\n",
       "$3Dmolpromise = null;\n",
       "  $3Dmolpromise = loadScriptAsync('https://cdnjs.cloudflare.com/ajax/libs/3Dmol/2.4.2/3Dmol-min.js');\n",
       "}\n",
       "\n",
       "var viewer_1744944584115935 = null;\n",
       "var warn = document.getElementById(\"3dmolwarning_1744944584115935\");\n",
       "if(warn) {\n",
       "    warn.parentNode.removeChild(warn);\n",
       "}\n",
       "$3Dmolpromise.then(function() {\n",
       "viewer_1744944584115935 = $3Dmol.createViewer(document.getElementById(\"3dmolviewer_1744944584115935\"),{backgroundColor:\"white\"});\n",
       "viewer_1744944584115935.zoomTo();\n",
       "\tviewer_1744944584115935.addModel(\"@<TRIPOS>MOLECULE\\nRES\\n5 4 1 0 1\\nSMALL\\nNO_CHARGES\\n@<TRIPOS>CRYSIN\\n   35.0000     6.0000     6.0000    90.0000    90.0000    90.0000 1 1\\n@<TRIPOS>ATOM\\n       1 C            0.0000     0.0000     0.0000 C             1 RES     \\n       2 C            0.0000     0.0000     0.0000 C             1 RES     \\n       3 C           10.0000     0.0000     0.0000 C             1 RES     \\n       4 C           20.0000     0.0000     0.0000 C             1 RES     \\n       5 C           30.0000     0.0000     0.0000 C             1 RES     \\n@<TRIPOS>BOND\\n       1        1        2 1\\n       2        1        3 1\\n       3        1        4 1\\n       4        1        5 1\\n@<TRIPOS>SUBSTRUCTURE\\n       1 RES             1 RESIDUE    0 **** ROOT      0\\n\",\"mol2\");\n",
       "\tviewer_1744944584115935.setStyle({\"stick\": {\"radius\": 0.18, \"color\": \"grey\"}, \"sphere\": {\"scale\": 0.3, \"colorscheme\": {}}});\n",
       "\tviewer_1744944584115935.zoomTo();\n",
       "viewer_1744944584115935.render();\n",
       "});\n",
       "</script>"
      ]
     },
     "metadata": {},
     "output_type": "display_data"
    },
    {
     "data": {
      "text/plain": [
       "<py3Dmol.view at 0x3001d6a80>"
      ]
     },
     "execution_count": 73,
     "metadata": {},
     "output_type": "execute_result"
    }
   ],
   "source": [
    "import mbuild as mb\n",
    "\n",
    "class CC(mb.Compound):\n",
    "    def __init__(self):\n",
    "        super(CC, self).__init__()\n",
    "        #Add 1st carbon atom \n",
    "        self.add(mb.Particle(name='C', pos=[0,0,0]), label='C[$]')\n",
    "\n",
    "        #Add 2nd carbon atom \n",
    "        self.add(mb.Particle(name='C', pos=[0,0,0]), label='CC[$]')\n",
    "        self.add(mb.Particle(name='C', pos=[1.0, 0, 0.0]), label='CC[$]')\n",
    "        self.add(mb.Particle(name='C', pos=[2.0, 0, 0.0]), label='CC[$]')\n",
    "        self.add(mb.Particle(name='C', pos=[3.0, 0, 0.0]), label='CC[$]')\n",
    "\n",
    "\n",
    "        self.add_bond((self['C'][0], self['CC'][0]))\n",
    "        self.add_bond((self['C'][0], self['CC'][1]))\n",
    "        self.add_bond((self['C'][0], self['CC'][2]))\n",
    "        self.add_bond((self['C'][0], self['CC'][3]))\n",
    "\n",
    "\n",
    "CarbonBond = CC()\n",
    "CarbonBond.visualize(show_ports=True)\n"
   ]
  },
  {
   "cell_type": "code",
   "execution_count": null,
   "id": "a8509756-6a2f-4264-8abd-52c1a6b0f2fd",
   "metadata": {},
   "outputs": [],
   "source": []
  }
 ],
 "metadata": {
  "kernelspec": {
   "display_name": "Python 3 (ipykernel)",
   "language": "python",
   "name": "python3"
  },
  "language_info": {
   "codemirror_mode": {
    "name": "ipython",
    "version": 3
   },
   "file_extension": ".py",
   "mimetype": "text/x-python",
   "name": "python",
   "nbconvert_exporter": "python",
   "pygments_lexer": "ipython3",
   "version": "3.12.0"
  }
 },
 "nbformat": 4,
 "nbformat_minor": 5
}
