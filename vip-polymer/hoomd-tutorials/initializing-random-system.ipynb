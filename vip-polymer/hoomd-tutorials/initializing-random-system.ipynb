{
 "cells": [
  {
   "cell_type": "code",
   "execution_count": 14,
   "id": "5c906e28-0e37-4496-a25d-98e148ce0a02",
   "metadata": {},
   "outputs": [],
   "source": [
    "import itertools\n",
    "import math\n",
    "\n",
    "import gsd.hoomd\n",
    "import hoomd\n",
    "import numpy\n",
    "import fresnel"
   ]
  },
  {
   "cell_type": "code",
   "execution_count": 15,
   "id": "484d0d92-8e75-4928-aee4-181f9a0030d8",
   "metadata": {},
   "outputs": [],
   "source": [
    "m = 4\n",
    "N_particles = 4 * m**3"
   ]
  },
  {
   "cell_type": "code",
   "execution_count": 16,
   "id": "41375ca3-a5d4-42ea-99b0-09363333c065",
   "metadata": {},
   "outputs": [],
   "source": [
    "spacing = 1.3\n",
    "K = math.ceil(N_particles ** (1 / 3))\n",
    "L = K * spacing\n",
    "x = numpy.linspace(-L / 2, L / 2, K, endpoint=False)\n",
    "position = list(itertools.product(x, repeat=3))\n",
    "\n",
    "frame = gsd.hoomd.Frame()\n",
    "frame.particles.N = N_particles\n",
    "frame.particles.position = position[0:N_particles]\n",
    "frame.particles.typeid = [0] * N_particles\n",
    "frame.configuration.box = [L, L, L, 0, 0, 0]"
   ]
  },
  {
   "cell_type": "code",
   "execution_count": 17,
   "id": "2f3038be-b219-463c-af6d-b309795bf22c",
   "metadata": {},
   "outputs": [],
   "source": [
    "frame.particles.types = ['A']"
   ]
  },
  {
   "cell_type": "code",
   "execution_count": 20,
   "id": "d9e62875-ab6b-4668-90c2-bdeb5dca55c5",
   "metadata": {},
   "outputs": [
    {
     "ename": "AttributeError",
     "evalue": "module 'fresnel' has no attribute 'render'",
     "output_type": "error",
     "traceback": [
      "\u001b[31m---------------------------------------------------------------------------\u001b[39m",
      "\u001b[31mAttributeError\u001b[39m                            Traceback (most recent call last)",
      "\u001b[36mCell\u001b[39m\u001b[36m \u001b[39m\u001b[32mIn[20]\u001b[39m\u001b[32m, line 1\u001b[39m\n\u001b[32m----> \u001b[39m\u001b[32m1\u001b[39m \u001b[43mfresnel\u001b[49m\u001b[43m.\u001b[49m\u001b[43mrender\u001b[49m(frame)\n",
      "\u001b[31mAttributeError\u001b[39m: module 'fresnel' has no attribute 'render'"
     ]
    }
   ],
   "source": [
    "fresnel.render(frame)"
   ]
  },
  {
   "cell_type": "code",
   "execution_count": null,
   "id": "06580c55-d438-4f5c-a96e-f14ab83a3d54",
   "metadata": {},
   "outputs": [],
   "source": []
  }
 ],
 "metadata": {
  "kernelspec": {
   "display_name": "Python 3 (ipykernel)",
   "language": "python",
   "name": "python3"
  },
  "language_info": {
   "codemirror_mode": {
    "name": "ipython",
    "version": 3
   },
   "file_extension": ".py",
   "mimetype": "text/x-python",
   "name": "python",
   "nbconvert_exporter": "python",
   "pygments_lexer": "ipython3",
   "version": "3.12.0"
  }
 },
 "nbformat": 4,
 "nbformat_minor": 5
}
